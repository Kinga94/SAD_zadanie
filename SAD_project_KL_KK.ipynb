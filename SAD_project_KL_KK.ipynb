{
 "cells": [
  {
   "cell_type": "markdown",
   "metadata": {},
   "source": [
    "Projekt z SAD. \n",
    "\n",
    "Hej Krzysiek\n",
    "Trzeba wybrać zbiór i temat. Wstępnie spojrzałam na dane z World Happiness Report 2021 i szczerze mówiąc moim zdaniem jest tam sporo luk. \n",
    "\n",
    "Z bardziej kompletnych i niefinansowych zbiorów rozważyłabym laptopy: https://github.com/kflisikowsky/analiza_danych_projekt_zespolowy/blob/main/Laptopy/laptopy.csv\n",
    "lub rowery: https://github.com/kflisikowsky/analiza_danych_projekt_zespolowy/tree/main/Sklep%20Rowerowy\n",
    "https://github.com/kflisikowsky/analiza_danych_projekt_zespolowy/tree/main/Sklep%20rowerowy%202\n",
    "\n",
    "ale też jestem kompletnie otwarta na inne propozycje :). \n",
    "\n",
    "Kinga "
   ]
  }
 ],
 "metadata": {
  "language_info": {
   "name": "python"
  }
 },
 "nbformat": 4,
 "nbformat_minor": 2
}
